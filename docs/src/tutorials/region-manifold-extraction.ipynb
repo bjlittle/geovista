{
 "cells": [
  {
   "cell_type": "markdown",
   "id": "8202c922-9714-4cdd-a3b4-cd8b0e4341af",
   "metadata": {
    "editable": true,
    "slideshow": {
     "slide_type": ""
    },
    "tags": []
   },
   "source": [
    "# Region Manifold Extraction"
   ]
  },
  {
   "cell_type": "code",
   "execution_count": null,
   "id": "7acb669a-3478-4861-ad98-ea3d51fddb26",
   "metadata": {
    "editable": true,
    "slideshow": {
     "slide_type": ""
    },
    "tags": [
     "remove-cell"
    ]
   },
   "outputs": [],
   "source": [
    "#\n",
    "# This is a hidden cell in the rendered notebook.\n",
    "# See Edit -> Edit Notebook Metadata -> Cell metadata\n",
    "# i.e., \"tags\": [ \"remove-cell\" ]\n",
    "#\n",
    "\n",
    "import geovista.cache\n",
    "import geovista.theme\n",
    "import pyvista\n",
    "\n",
    "# Tip: Change this to \"trame\" for an interactive backend.\n",
    "pyvista.set_jupyter_backend(\"static\")\n",
    "# Silence the geovista pooch cache manager when downloading resources.\n",
    "geovista.cache.pooch_mute()"
   ]
  },
  {
   "cell_type": "markdown",
   "id": "6d33ad59-e40b-4cbd-b194-40607f6bb5aa",
   "metadata": {},
   "source": [
    "## {fa}`comment-dots` Introduction"
   ]
  },
  {
   "cell_type": "markdown",
   "id": "828de9cb-bd4a-4b15-bf73-100bd4efc13e",
   "metadata": {},
   "source": [
    "```{figure} ../_static/images/cubed-sphere.jpg\n",
    "---\n",
    "figclass: margin\n",
    "alt: Cubed-Sphere\n",
    "name: tutorial-cubed-sphere\n",
    "---\n",
    "Cubed-Sphere\n",
    "```\n",
    "\n",
    "In this tutorial we use **unstructured cubed-sphere** sample data from the {py:mod}`~geovista.pantry` to explore mesh regional extraction using a geodesic manifold. "
   ]
  },
  {
   "cell_type": "markdown",
   "id": "ab0edd94-9e0c-4e15-b9dd-b5652b92e35d",
   "metadata": {},
   "source": [
    "## {fa}`rocket` Let's Go!"
   ]
  },
  {
   "cell_type": "markdown",
   "id": "29e30359-f1e1-402d-975b-0e679031b08a",
   "metadata": {},
   "source": [
    "The [Met Office](https://www.metoffice.gov.uk/) is migrating to a unstructured cubed-sphere quadrilateral-cell mesh, which is a gridded cube projected onto a sphere i.e., there are **6 panels** on the sphere, see {numref}`tutorial-cubed-sphere`.\n",
    "\n",
    "Each cubed-sphere is defined by the number of *cells squared* within each panel. In this tutorial we'll use a **C48 cubed-sphere**, so there are ``48 * 48`` cells per panel, and ``6 * 48 * 48`` cells in a mesh overall."
   ]
  },
  {
   "cell_type": "markdown",
   "id": "1d67f3fd-4c13-4227-aa6b-d695331b593c",
   "metadata": {},
   "source": [
    "First, let's import ``geovista`` and generate some **LFRic model** cubed-sphere sample data using the {py:func}`~geovista.pantry.meshes.lfric` and {py:func}`~geovista.pantry.meshes.lfric_sst` convenience functions:"
   ]
  },
  {
   "cell_type": "markdown",
   "id": "24d5a70d-4d39-4048-a5e1-8e538c190f49",
   "metadata": {},
   "source": [
    "```{seealso}\n",
    "---\n",
    "class: margin, dropdown, toggle-shown\n",
    "---\n",
    "For those interested in LFRic, please refer to [LFRic - a modelling system fit for future computers](https://www.metoffice.gov.uk/research/approach/modelling-systems/lfric).\n",
    "```"
   ]
  },
  {
   "cell_type": "code",
   "execution_count": null,
   "id": "dbd25452-a737-45df-b38f-aa3cc027d843",
   "metadata": {
    "editable": true,
    "slideshow": {
     "slide_type": ""
    },
    "tags": []
   },
   "outputs": [],
   "source": [
    "import geovista as gv\n",
    "from geovista.pantry.meshes import lfric, lfric_sst"
   ]
  },
  {
   "cell_type": "markdown",
   "id": "9a07de06-bc19-45d4-bf0f-701b1dfbc595",
   "metadata": {},
   "source": [
    "As the {py:func}`~geovista.pantry.meshes.lfric` and {py:func}`~geovista.pantry.meshes.lfric_sst` functions both return a [](#pyvista.PolyData) we can simply use the [](#pyvista.DataSet.plot) method to render them:"
   ]
  },
  {
   "cell_type": "code",
   "execution_count": null,
   "id": "44e2bda9-3cd1-4e19-844d-9219517f5490",
   "metadata": {
    "editable": true,
    "slideshow": {
     "slide_type": ""
    },
    "tags": [
     "hide-output"
    ]
   },
   "outputs": [],
   "source": [
    "c48 = lfric(resolution=\"c48\")\n",
    "c48.plot(show_edges=True)"
   ]
  },
  {
   "cell_type": "markdown",
   "id": "4b41b8a6-1321-46d8-8856-e10b0d44f05f",
   "metadata": {},
   "source": [
    "Now create the same C48 cubed-sphere resolution mesh, but this time with cells populated with *Sea Surface Temperature* (SST) data. Note that the land masses are masked, as this is an oceanographic dataset. Masked cells within the mesh will have ``nan`` values:"
   ]
  },
  {
   "cell_type": "code",
   "execution_count": null,
   "id": "cb0da0da-befa-4d9e-b50e-e300a163af21",
   "metadata": {
    "editable": true,
    "slideshow": {
     "slide_type": ""
    },
    "tags": [
     "hide-output"
    ]
   },
   "outputs": [],
   "source": [
    "c48_sst = lfric_sst()\n",
    "c48_sst.plot(show_edges=True)"
   ]
  },
  {
   "cell_type": "markdown",
   "id": "c4e9d436-0de6-4b4d-9bb8-c124793bec18",
   "metadata": {},
   "source": [
    "{fa}`bullseye` **Our challenge is to extract all cubed-sphere cells within the panel covering the Americas.**\n",
    "\n",
    "We can achieve this using the {py:func}`geovista.geodesic.panel` function.\n",
    "\n",
    "The {py:func}`~geovista.geodesic.panel` function is a convenience which allows you to extract cells from a mesh within **1 of the 6** named cubed-sphere panels i.e., ``africa``, ``americas``, ``antarctic``, ``arctic``, ``asia``, and ``pacific``.\n",
    "\n",
    "```{hint}\n",
    "---\n",
    "class: margin, dropdown, toggle-shown\n",
    "---\n",
    "You can use {py:class}`~geovista.geodesic.BBox` directly to create **generic** geodesic bounding-box manifolds.\n",
    "```\n",
    "\n",
    "It returns a {py:class}`geovista.geodesic.BBox` instance, which defines a **geodesic bounding-box manifold** for the requested spatial region.\n",
    "\n",
    "So let's go ahead and create the {py:class}`~geovista.geodesic.BBox` for the ``americas`` cubed-sphere panel and use its {py:meth}`~geovista.geodesic.BBox.mesh` method to visualise the manifold:"
   ]
  },
  {
   "cell_type": "code",
   "execution_count": null,
   "id": "384014fe-b8f7-4327-900c-6226f1784f40",
   "metadata": {
    "editable": true,
    "slideshow": {
     "slide_type": ""
    },
    "tags": [
     "hide-output"
    ]
   },
   "outputs": [],
   "source": [
    "from geovista.geodesic import panel\n",
    "\n",
    "americas_bbox = panel(\"americas\")\n",
    "americas_bbox.mesh.plot(color=\"orange\")"
   ]
  },
  {
   "cell_type": "markdown",
   "id": "8c55bd6c-e0a8-448e-a48c-c9fd8a48da57",
   "metadata": {},
   "source": [
    "Note that, the ``americas_bbox`` is constructed from **geodesic lines** i.e., great circles, and is a 3-D manifold i.e., a water-tight geometric structure. As such, we can then use it to extract points/cells from **any** underlying mesh. \n",
    "\n",
    "Before doing that, first let’s render the ``americas_bbox`` and the ``c48_sst`` mesh together so that we can see their relationship to one another and convince ourselves that the ``americas_bbox`` instance is indeed covering the correct panel of the cubed-sphere:"
   ]
  },
  {
   "cell_type": "markdown",
   "id": "91922755-e5f9-4210-8513-5848a91e969b",
   "metadata": {},
   "source": [
    "```{note}\n",
    "---\n",
    "class: margin, dropdown, toggle-shown\n",
    "---\n",
    "``plotter`` is a {py:class}`~geovista.geoplotter.GeoPlotter` instance. It inherits all the behaviour of a {py:class}`pyvista.Plotter` but also additional ✨ cartographic conveniences ✨ from {py:class}`~geovista.geoplotter.GeoPlotterBase`.\n",
    "```"
   ]
  },
  {
   "cell_type": "code",
   "execution_count": null,
   "id": "0af3bac6-38b9-48cb-9052-27172882b765",
   "metadata": {
    "editable": true,
    "slideshow": {
     "slide_type": ""
    },
    "tags": [
     "hide-output"
    ]
   },
   "outputs": [],
   "source": [
    "plotter = gv.GeoPlotter()\n",
    "\n",
    "plotter.add_mesh(c48_sst, show_edges=True)\n",
    "plotter.add_mesh(americas_bbox.mesh, color=\"orange\")\n",
    "\n",
    "plotter.view_yz()\n",
    "plotter.camera.zoom(1.2)\n",
    "plotter.add_axes()\n",
    "plotter.show()"
   ]
  },
  {
   "cell_type": "markdown",
   "id": "6c9c8548-29e3-4668-bccd-4bf4b15d4700",
   "metadata": {},
   "source": [
    "Seems to be right on the money! 👍\n",
    "\n",
    "However, let's apply some ``opacity`` to the ``c48_sst`` mesh so that we can see through the surface and view the ``americas_bbox`` from a different angle.\n",
    "\n",
    "We'll also use the {py:meth}`~geovista.geoplotter.GeoPlotterBase.view_poi` method to perform some cartographic camera controls on the rendered scene. Namey, move the camera to **30°E** longitude."
   ]
  },
  {
   "cell_type": "code",
   "execution_count": null,
   "id": "f1288363-16f4-4b10-9d11-58631b99c018",
   "metadata": {
    "editable": true,
    "slideshow": {
     "slide_type": ""
    },
    "tags": [
     "hide-output"
    ]
   },
   "outputs": [],
   "source": [
    "plotter = gv.GeoPlotter()\n",
    "plotter.add_mesh(c48_sst, opacity=0.3)\n",
    "plotter.add_mesh(americas_bbox.mesh, color=\"orange\")\n",
    "\n",
    "plotter.view_poi(x=30)\n",
    "\n",
    "plotter.camera.zoom(1.2)\n",
    "plotter.add_axes()\n",
    "plotter.show()"
   ]
  },
  {
   "cell_type": "markdown",
   "id": "5bded15b-ce00-4d78-b955-375d8ebc9289",
   "metadata": {},
   "source": [
    "Rather than viewing the entire bounding-box, sometimes it's more helpful to see only the boundary where the manifold intersects the surface of the mesh that it's enclosing.\n",
    "\n",
    "We can achieve this by using the {py:meth}`geovista.geodesic.BBox.boundary` method:"
   ]
  },
  {
   "cell_type": "code",
   "execution_count": null,
   "id": "f3533c44-5716-47f8-a7f8-9ff6d8644ed9",
   "metadata": {
    "editable": true,
    "slideshow": {
     "slide_type": ""
    },
    "tags": [
     "hide-output"
    ]
   },
   "outputs": [],
   "source": [
    "plotter = gv.GeoPlotter()\n",
    "plotter.add_mesh(c48_sst, show_edges=True)\n",
    "\n",
    "plotter.add_mesh(americas_bbox.boundary(), color=\"orange\", line_width=5)\n",
    "\n",
    "plotter.view_xz()\n",
    "plotter.camera.zoom(1.2)\n",
    "plotter.add_axes()\n",
    "plotter.show()"
   ]
  },
  {
   "cell_type": "markdown",
   "id": "4524207f-424c-4bb7-a31e-3a9a0dc87e0a",
   "metadata": {},
   "source": [
    "Okay, so let's finally use the ``americas_bbox`` to extract cells from the ``c48_sst`` mesh by using the {py:meth}`geovista.geodesic.BBox.enclosed` method:"
   ]
  },
  {
   "cell_type": "code",
   "execution_count": null,
   "id": "bf03bb25-bd1a-4897-a835-05b70b54a07e",
   "metadata": {},
   "outputs": [],
   "source": [
    "region = americas_bbox.enclosed(c48_sst)"
   ]
  },
  {
   "cell_type": "markdown",
   "id": "dab42368-7a84-4631-9c6e-c7097efb3564",
   "metadata": {},
   "source": [
    "The extracted ``region`` returned by {py:meth}`~geovista.geodesic.BBox.enclosed` is a {py:class}`pyvista.PolyData`. Under the hood {py:meth}`~geovista.geodesic.BBox.enclosed` uses the {py:meth}`pyvista.DataSetFilters.select_enclosed_points` method to achieve this. \n",
    "\n",
    "{fa}`flask` You may want to experiment with the ``preference`` *kwarg* of the {py:meth}`~geovista.geodesic.BBox.enclosed` method to see the impact on the end result.\n",
    "\n",
    "Anyways, let's go ahead and see the extracted region, which should represent all the cells from the ``c48_sst`` mesh within the ``americas`` bounding-box:"
   ]
  },
  {
   "cell_type": "code",
   "execution_count": null,
   "id": "20d155ac-41a9-4e7f-8818-831f9c4db6da",
   "metadata": {
    "editable": true,
    "slideshow": {
     "slide_type": ""
    },
    "tags": [
     "hide-output"
    ]
   },
   "outputs": [],
   "source": [
    "plotter = gv.GeoPlotter()\n",
    "\n",
    "plotter.add_mesh(region, show_edges=True)\n",
    "\n",
    "plotter.view_xz()\n",
    "plotter.add_axes()\n",
    "plotter.show()"
   ]
  },
  {
   "cell_type": "markdown",
   "id": "af26cfc6-d0ba-4766-ab8b-f07d1368cd45",
   "metadata": {},
   "source": [
    "```{hint}\n",
    "---\n",
    "class: margin, dropdown, toggle-shown\n",
    "---\n",
    "When you extract data from a mesh use the {py:meth}`pyvista.Plotter.add_mesh` ``clim`` *kwarg* to ensure the same colorbar range.\n",
    "```\n",
    "\n",
    "Now bring this all together by rendering the extracted region along with a [Natural Earth](https://www.naturalearthdata.com/) texture mapped base layer and coastlines:"
   ]
  },
  {
   "cell_type": "code",
   "execution_count": null,
   "id": "5fdf0be0-143d-4df1-adc9-f5d0d9beb735",
   "metadata": {
    "editable": true,
    "slideshow": {
     "slide_type": ""
    },
    "tags": [
     "hide-output"
    ]
   },
   "outputs": [],
   "source": [
    "clim = (271, 303)\n",
    "\n",
    "plotter = gv.GeoPlotter()\n",
    "plotter.add_mesh(region, show_edges=True, clim=clim)\n",
    "\n",
    "plotter.add_base_layer(texture=gv.natural_earth_hypsometric())\n",
    "plotter.add_coastlines(resolution=\"10m\")\n",
    "\n",
    "plotter.view_xz()\n",
    "plotter.camera.zoom(1.2)\n",
    "plotter.show_axes()\n",
    "plotter.show()"
   ]
  },
  {
   "cell_type": "markdown",
   "id": "38b5b3ee-6da0-419f-b5e2-26539dded41f",
   "metadata": {},
   "source": [
    "```{hint}\n",
    "---\n",
    "class: margin, dropdown, toggle-shown\n",
    "---\n",
    "Discover the data arrays available on a mesh with {py:attr}`pyvista.DataSet.array_names` and the active scalars with {py:attr}`pyvista.DataSet.active_scalars_name`.\n",
    "```\n",
    "\n",
    "As we're not particularly interested in the masked land masses, we can easily remove them using the {py:meth}`pyvista.DataSetFilters.threshold` method available on the ``region`` {py:class}`~pyvista.PolyData` instance.\n",
    "\n",
    "By default, the {py:meth}`~pyvista.DataSetFilters.threshold` method will remove cells with ``nan`` values from the active scalars array on the mesh, which is just what we need:"
   ]
  },
  {
   "cell_type": "code",
   "execution_count": null,
   "id": "0189918b-932a-408e-8f6b-92ced2508bc8",
   "metadata": {},
   "outputs": [],
   "source": [
    "sea_region = region.threshold()"
   ]
  },
  {
   "cell_type": "markdown",
   "id": "b28a42b0-106e-4584-8e59-9cbe8f0ede28",
   "metadata": {},
   "source": [
    "Now let's respin the render, but with the ``sea_region`` mesh and add some S.I. units to the scalar bar:"
   ]
  },
  {
   "cell_type": "code",
   "execution_count": null,
   "id": "ea90ae49-9442-4434-afae-932759b583f0",
   "metadata": {
    "editable": true,
    "slideshow": {
     "slide_type": ""
    },
    "tags": [
     "hide-output"
    ]
   },
   "outputs": [],
   "source": [
    "plotter = gv.GeoPlotter()\n",
    "\n",
    "sargs = {\"title\": f\"{sea_region.active_scalars_name} / K\"}\n",
    "plotter.add_mesh(sea_region, show_edges=True, clim=clim, scalar_bar_args=sargs)\n",
    "\n",
    "plotter.add_base_layer(texture=gv.natural_earth_hypsometric())\n",
    "plotter.add_coastlines(resolution=\"10m\")\n",
    "plotter.view_xz()\n",
    "plotter.camera.zoom(1.2)\n",
    "plotter.show_axes()\n",
    "plotter.show()"
   ]
  },
  {
   "cell_type": "markdown",
   "id": "5e024f34-fa31-4f9b-928e-ba129a2c320f",
   "metadata": {},
   "source": [
    "### {fa}`user-astronaut` Extension"
   ]
  },
  {
   "cell_type": "markdown",
   "id": "c6d1c5af-c3d6-4694-a371-e955f0d92e01",
   "metadata": {},
   "source": [
    "``geovista`` offers basic support for **Cylindrical** and **Pseudo-Cylindrical** cartographic projections. We're working on maturing this capability, and later extending to other classes of projections, such as **Azimuthal** and **Conic**.\n",
    "\n",
    "To exercise this, let's transform our ``sea_region`` mesh to a [Robinson](https://proj.org/en/9.4/operations/projections/robin.html) projection using a [PROJ](https://proj.org/en/9.4/) string to define the Coordinate Reference System (CRS):"
   ]
  },
  {
   "cell_type": "code",
   "execution_count": null,
   "id": "57128d5a-3de6-4206-8265-6f7625fc54c1",
   "metadata": {},
   "outputs": [],
   "source": [
    "crs = \"+proj=robin lon_0=-90\""
   ]
  },
  {
   "cell_type": "markdown",
   "id": "b7632b04-0d53-4f4e-858e-f424b23cd39e",
   "metadata": {},
   "source": [
    "```{note}\n",
    "---\n",
    "class: margin, dropdown, toggle-shown\n",
    "---\n",
    "If no ``crs`` is provided to {py:class}`~geovista.geoplotter.GeoPlotter`, it will assume geographic longitude and latitudes (``WGS84``), and render the mesh on a sphere.\n",
    "```\n",
    "\n",
    "We pass the ``crs`` as a *kwarg* to the {py:class}`~geovista.geoplotter.GeoPlotter` and render the projected scene:"
   ]
  },
  {
   "cell_type": "code",
   "execution_count": null,
   "id": "aefe5bb5-3f06-4f3b-b7ad-a7dfaa84565a",
   "metadata": {
    "editable": true,
    "slideshow": {
     "slide_type": ""
    },
    "tags": [
     "hide-output"
    ]
   },
   "outputs": [],
   "source": [
    "plotter = gv.GeoPlotter(crs=crs)\n",
    "plotter.add_mesh(sea_region, show_edges=True, clim=clim)\n",
    "plotter.add_base_layer(texture=gv.natural_earth_hypsometric())\n",
    "plotter.add_coastlines(resolution=\"10m\")\n",
    "plotter.view_xy()\n",
    "plotter.camera.zoom(1.5)\n",
    "plotter.show_axes()\n",
    "plotter.show()"
   ]
  },
  {
   "cell_type": "markdown",
   "id": "93bcfdc0-9474-4760-bda4-99e0682ef2af",
   "metadata": {},
   "source": [
    "Note that, the base layer and coastlines are also automatically transformed to the target projection.\n",
    "\n",
    "``geovista`` also has an understanding of [cartopy](https://github.com/SciTools/cartopy) CRS's. So let's use ``cartopy`` to create a [Mollweide](https://proj.org/en/9.4/operations/projections/moll.html) CRS:"
   ]
  },
  {
   "cell_type": "code",
   "execution_count": null,
   "id": "ec28ff3e-6ed2-42a8-87b3-e8cab5c08234",
   "metadata": {},
   "outputs": [],
   "source": [
    "import cartopy.crs as ccrs\n",
    "\n",
    "crs = ccrs.Mollweide(central_longitude=-90)"
   ]
  },
  {
   "cell_type": "markdown",
   "id": "46d84138-6084-4fdf-bbeb-2183206db839",
   "metadata": {},
   "source": [
    "Before we use this CRS, let's **invert** the ``sea_region`` i.e., find all cells **not** enclosed by the ``americas_bbox`` manifold. We can easily do this using the ``outside`` *kwarg* of {py:meth}`~geovista.geodesic.BBox.enclosed`:"
   ]
  },
  {
   "cell_type": "code",
   "execution_count": null,
   "id": "d6632b3b-85d7-4be3-833c-b1607f9a7444",
   "metadata": {},
   "outputs": [],
   "source": [
    "outside = americas_bbox.enclosed(c48_sst, outside=True)\n",
    "sea_outside = outside.threshold()"
   ]
  },
  {
   "cell_type": "markdown",
   "id": "65310b42-a47b-4b29-8377-acde682a5021",
   "metadata": {},
   "source": [
    "Now let's see the final projected result:"
   ]
  },
  {
   "cell_type": "code",
   "execution_count": null,
   "id": "9d1250e9-aa16-4388-8a7c-cc1661bacf67",
   "metadata": {
    "editable": true,
    "slideshow": {
     "slide_type": ""
    },
    "tags": [
     "hide-output"
    ]
   },
   "outputs": [],
   "source": [
    "plotter = gv.GeoPlotter(crs=crs)\n",
    "plotter.add_mesh(sea_outside, show_edges=True, clim=clim)\n",
    "plotter.add_base_layer(texture=gv.natural_earth_hypsometric())\n",
    "plotter.add_coastlines(resolution=\"10m\")\n",
    "plotter.view_xy()\n",
    "plotter.camera.zoom(1.5)\n",
    "plotter.show_axes()\n",
    "plotter.show()"
   ]
  },
  {
   "cell_type": "markdown",
   "id": "56f7ec84-5ac5-44f4-8207-6521b4fe1eb7",
   "metadata": {},
   "source": [
    "## {fab}`elementor` Summary"
   ]
  },
  {
   "cell_type": "markdown",
   "id": "65ac5b6e-caa5-4cb7-b049-a89e0b4971d9",
   "metadata": {},
   "source": [
    "Key learning points of this tutorial:\n",
    "\n",
    "- using the {py:mod}`geovista.pantry` to generate meshes\n",
    "- creating a geodesic bounding-box manifold with {py:func}`~geovista.geodesic.panel`\n",
    "- introduction to the {py:class}`~geovista.geodesic.BBox` class and using its {py:meth}`~geovista.geodesic.BBox.boundary`, {py:meth}`~geovista.geodesic.BBox.enclosed`, and {py:meth}`~geovista.geodesic.BBox.mesh` methods\n",
    "- cartographic positioning of the camera with {py:meth}`~geovista.geoplotter.GeoPlotterBase.view_poi`\n",
    "- performing a cell {py:meth}`~pyvista.DataSetFilters.threshold` of a mesh"
   ]
  },
  {
   "cell_type": "code",
   "execution_count": null,
   "id": "d89b6232-9657-4a3a-9c71-9c69aac29e70",
   "metadata": {},
   "outputs": [],
   "source": []
  }
 ],
 "metadata": {
  "kernelspec": {
   "display_name": "Python 3 (ipykernel)",
   "language": "python",
   "name": "python3"
  },
  "language_info": {
   "codemirror_mode": {
    "name": "ipython",
    "version": 3
   },
   "file_extension": ".py",
   "mimetype": "text/x-python",
   "name": "python",
   "nbconvert_exporter": "python",
   "pygments_lexer": "ipython3",
   "version": "3.11.9"
  }
 },
 "nbformat": 4,
 "nbformat_minor": 5
}
